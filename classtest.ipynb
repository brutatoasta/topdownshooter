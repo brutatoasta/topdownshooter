{
 "metadata": {
  "language_info": {
   "codemirror_mode": {
    "name": "ipython",
    "version": 3
   },
   "file_extension": ".py",
   "mimetype": "text/x-python",
   "name": "python",
   "nbconvert_exporter": "python",
   "pygments_lexer": "ipython3",
   "version": 3
  },
  "orig_nbformat": 2
 },
 "nbformat": 4,
 "nbformat_minor": 2,
 "cells": [
  {
   "cell_type": "code",
   "execution_count": null,
   "metadata": {},
   "outputs": [],
   "source": [
    "class Bullet(pygame.sprite.Sprite):\n",
    "    #This class represents a bullet. It derives from the \"Sprite\" class in Pygame.\n",
    "    \n",
    "    def __init__(self, color, width, height):\n",
    "        # Call the parent class (Sprite) constructor\n",
    "        super().__init__()\n",
    "        \n",
    "        # Pass in the color of the car, and its x and y position, width and height.\n",
    "        # Set the background color and set it to be transparent\n",
    "        self.image = pygame.Surface([width, height])\n",
    "        self.image.fill(BLACK)\n",
    "        self.image.set_colorkey(BLACK)\n",
    " \n",
    "        # Draw the ball (a rectangle!)\n",
    "        pygame.draw.rect(self.image, color, [0, 0, width, height])\n",
    "        \n",
    "        self.velocity = [randint(4,8),randint(-8,8)]\n",
    "        \n",
    "        # Fetch the rectangle object that has the dimensions of the image.\n",
    "        self.rect = self.image.get_rect()\n",
    "        \n",
    "    def update(self):\n",
    "        self.rect.x += self.velocity[0]\n",
    "        self.rect.y += self.velocity[1]\n",
    "        \n",
    "    def bounce(self):\n",
    "        self.velocity[0] = -self.velocity[0]\n",
    "        self.velocity[1] = randint(-8,8)"
   ]
  }
 ]
}